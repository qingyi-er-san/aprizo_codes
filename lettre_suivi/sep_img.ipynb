{
 "cells": [
  {
   "cell_type": "code",
   "execution_count": 1,
   "metadata": {},
   "outputs": [],
   "source": [
    "import cv2\n",
    "import numpy as np\n",
    "from datetime import datetime\n",
    "import pytz\n",
    "from math import *\n",
    "import os, shutil\n",
    "import fitz\n",
    "import re\n",
    "import PyPDF2\n",
    "import matplotlib.pyplot as plt"
   ]
  },
  {
   "cell_type": "code",
   "execution_count": 2,
   "metadata": {},
   "outputs": [],
   "source": [
    "#pdfname=\"16012023\"\n",
    "pdfname = 'uk'"
   ]
  },
  {
   "cell_type": "code",
   "execution_count": 3,
   "metadata": {},
   "outputs": [],
   "source": [
    "def mkdir(path):\n",
    "    folder = os.path.exists(path)\n",
    "    if not folder:  # 判断是否存在文件夹如果不存在则创建为文件夹\n",
    "        os.makedirs(path)  # makedirs 创建文件时如果路径不存在会创建这个路径\n",
    "    else:\n",
    "        pass\n",
    "\n",
    "'''\n",
    "print(STACK[1])\n",
    "print(STACK[1][1])\n",
    "print(STACK[1][1][5:])\n",
    "详细解释一下STACK的构成，三级list，\n",
    "STACK[1] 一级列表，元素为子列表，每个子列表包含一整页邮编的SD\n",
    "STACK[1][1] 第二级列表，其子元素为某一张邮票SD\n",
    "STACK[][][] 第三级列表，其子元素是某SD的字符组成\n",
    "['SD : 87500070634473F', 'SD : 87500070634474D', 'SD : 87500070634475B', 'SD : 875000706344769'.........]\n",
    "SD : 87500070634474D\n",
    "87500070634474D\n",
    "'''\n",
    "STACK=[]        # 邮票上的SD号码\n",
    "pdf_header=\"pdfs/\"\n",
    "\n",
    "def pdf_image(pdfPath, imgPath, zoom_x, zoom_y, rotation_angle):\n",
    "    \"\"\"\n",
    "    inpput: 由la poste下载的邮票总pdf\n",
    "    output: 将总pdf按页切割,生成图片jpg\n",
    "\n",
    "    @param pdfPath: pdf文件的路径\n",
    "    @param imgPath: 图像要保存的文件夹\n",
    "    @param zoom_x: x方向的缩放系数\n",
    "    @param zoom_y: y方向的缩放系数\n",
    "    @param rotation_angle: 旋转角度\n",
    "\n",
    "    使用过的总pdf移入 used-pdf/文件中\n",
    "    生成的jpg图片放入images/pdfname/文件中\n",
    "                                    \n",
    "    \"\"\"\n",
    "    # 打开PDF文件\n",
    "\n",
    "    pdf = fitz.open(pdfPath)\n",
    "    pdfReader = PyPDF2.PdfFileReader(pdfPath)\n",
    "    name = pdf.name\n",
    "    # 将前面的文件夹路径替换，以及把后缀的地方去掉\n",
    "    name = name.replace('pdfs/', '').replace('.pdf', '')\n",
    "    # 逐页读取PDF\n",
    "    # 有一些小函数在小细节上面做出了更新\n",
    "    for pg in range(0, pdf.page_count):\n",
    "        page = pdf.load_page(pg)\n",
    "\n",
    "        ###########add-stack\n",
    "        pagehandle = pdfReader.getPage(pg)\n",
    "        pagestack=re.findall(\"SD.*\",pagehandle.extractText())\n",
    "        STACK.append(pagestack)\n",
    "        # 设置缩放和旋转系数\n",
    "        trans = fitz.Matrix(zoom_x, zoom_y).prerotate(rotation_angle)\n",
    "        pm = page.get_pixmap(matrix=trans, alpha=False)\n",
    "        # 开始写图像\n",
    "        mkdir(imgPath + name)\n",
    "        ###现在直接用save函数保存图片了、\n",
    "        pm.save(imgPath + name + '/' + str(pg + 1) + \".png\")\n",
    "    pdf.close()\n",
    "    shutil.move(pdfPath,\"./used-pdf/\")\n",
    "\n",
    "\n",
    "pdf_image(pdf_header+pdfname+'.pdf', r\"images/\", 5, 5, 0)"
   ]
  },
  {
   "cell_type": "code",
   "execution_count": 9,
   "metadata": {},
   "outputs": [
    {
     "ename": "IndexError",
     "evalue": "list index out of range",
     "output_type": "error",
     "traceback": [
      "\u001b[1;31m---------------------------------------------------------------------------\u001b[0m",
      "\u001b[1;31mIndexError\u001b[0m                                Traceback (most recent call last)",
      "\u001b[1;32md:\\Bureaux\\lettre_suivi\\sep_img.ipynb Cell 4\u001b[0m in \u001b[0;36m<cell line: 19>\u001b[1;34m()\u001b[0m\n\u001b[0;32m     <a href='vscode-notebook-cell:/d%3A/Bureaux/lettre_suivi/sep_img.ipynb#W3sZmlsZQ%3D%3D?line=35'>36</a>\u001b[0m \u001b[39mfor\u001b[39;00m j \u001b[39min\u001b[39;00m \u001b[39mrange\u001b[39m(\u001b[39m0\u001b[39m, \u001b[39m3\u001b[39m):\n\u001b[0;32m     <a href='vscode-notebook-cell:/d%3A/Bureaux/lettre_suivi/sep_img.ipynb#W3sZmlsZQ%3D%3D?line=36'>37</a>\u001b[0m     pic \u001b[39m=\u001b[39m picture[i\u001b[39m*\u001b[39mcut_width : (i\u001b[39m+\u001b[39m\u001b[39m1\u001b[39m)\u001b[39m*\u001b[39mcut_width, j\u001b[39m*\u001b[39mcut_length : (j\u001b[39m+\u001b[39m\u001b[39m1\u001b[39m)\u001b[39m*\u001b[39mcut_length, :]      \n\u001b[1;32m---> <a href='vscode-notebook-cell:/d%3A/Bureaux/lettre_suivi/sep_img.ipynb#W3sZmlsZQ%3D%3D?line=37'>38</a>\u001b[0m     result\u001b[39m=\u001b[39mSTACK[filelistcount][timbrecount][\u001b[39m5\u001b[39m:]\n\u001b[0;32m     <a href='vscode-notebook-cell:/d%3A/Bureaux/lettre_suivi/sep_img.ipynb#W3sZmlsZQ%3D%3D?line=38'>39</a>\u001b[0m     result_path \u001b[39m=\u001b[39m pic_target \u001b[39m+\u001b[39m \u001b[39m'\u001b[39m\u001b[39m{}\u001b[39;00m\u001b[39m.jpg\u001b[39m\u001b[39m'\u001b[39m\u001b[39m.\u001b[39mformat(result)              \u001b[39m# 这一步是用邮票的SD编号对单张邮票进行命名\u001b[39;00m\n\u001b[0;32m     <a href='vscode-notebook-cell:/d%3A/Bureaux/lettre_suivi/sep_img.ipynb#W3sZmlsZQ%3D%3D?line=39'>40</a>\u001b[0m     cv2\u001b[39m.\u001b[39mimwrite(result_path, pic)\n",
      "\u001b[1;31mIndexError\u001b[0m: list index out of range"
     ]
    }
   ],
   "source": [
    "##################################切割正常的邮票#####################################\n",
    "\n",
    "'''\n",
    "切割图片jpg,等到单张邮票\n",
    "Input:由上面程序切割得到的图片jpg,每张图片中包含很多张单张邮票\n",
    "使用过的图片jpg移入used-pdfpage\n",
    "Output:单张邮票集合,集合存入 sousimgs中\n",
    "\n",
    "'''\n",
    "\n",
    "imgfiles=\"./images/\"\n",
    "file_dir=imgfiles+pdfname+'/'\n",
    "\n",
    "file_list = []\n",
    "for items in os.walk(file_dir, topdown=False):\n",
    "    file_list = items[2]\n",
    "\n",
    "filelistcount=0\n",
    "for file in file_list:\n",
    "    pic_path =file_dir+file # 分割的图片的位置\n",
    "    pic_target = './sousimgs/' # 分割后的图片保存的文件夹\n",
    "    if not os.path.exists(pic_target):  #判断是否存在文件夹如果不存在则创建为文件夹\n",
    "        os.makedirs(pic_target)\n",
    "   \n",
    "    cut_width = 520\n",
    "    cut_length = 992\n",
    "\n",
    "    # 读取要分割的图片，以及其尺寸等数据\n",
    "    picture = cv2.imread(pic_path)\n",
    "    (width, length, depth) = picture.shape\n",
    "    # 预处理生成0矩阵\n",
    "    pic = np.zeros((cut_width, cut_length, depth))\n",
    "    # for循环迭代生成\n",
    "    timbrecount=0\n",
    "    for i in range(0, 8):\n",
    "        for j in range(0, 3):\n",
    "            pic = picture[i*cut_width : (i+1)*cut_width, j*cut_length : (j+1)*cut_length, :]      \n",
    "            result=STACK[filelistcount][timbrecount][5:]\n",
    "            result_path = pic_target + '{}.jpg'.format(result)              # 这一步是用邮票的SD编号对单张邮票进行命名\n",
    "            cv2.imwrite(result_path, pic)\n",
    "            timbrecount+=1\n",
    "    filelistcount+=1\n",
    "shutil.move(file_dir ,\"./used-pdfpage/\")\n",
    "print()"
   ]
  },
  {
   "cell_type": "code",
   "execution_count": 4,
   "metadata": {},
   "outputs": [
    {
     "name": "stdout",
     "output_type": "stream",
     "text": [
      "excrption for index, but program continue,its ok. \n"
     ]
    },
    {
     "data": {
      "text/plain": [
       "'./used-pdfpage/uk'"
      ]
     },
     "execution_count": 4,
     "metadata": {},
     "output_type": "execute_result"
    }
   ],
   "source": [
    "################切割 UK 的邮票#####################\n",
    "\n",
    "\n",
    "imgfiles=\"./images/\"\n",
    "file_dir=imgfiles+pdfname+'/'\n",
    "\n",
    "file_list = []\n",
    "for items in os.walk(file_dir, topdown=False):\n",
    "    file_list = items[2]\n",
    "\n",
    "filelistcount=0\n",
    "for file in file_list:\n",
    "    pic_path =file_dir+file # 分割的图片的位置\n",
    "    pic_target = './sousimgs_UK/' # 分割后的图片保存的文件夹\n",
    "    if not os.path.exists(pic_target):  #判断是否存在文件夹如果不存在则创建为文件夹\n",
    "        os.makedirs(pic_target)\n",
    "   \n",
    "    cut_width = 550\n",
    "    cut_length = 992\n",
    "\n",
    "    # 读取要分割的图片，以及其尺寸等数据\n",
    "    picture = cv2.imread(pic_path)\n",
    "    (width, length, depth) = picture.shape\n",
    "    # 预处理生成0矩阵\n",
    "    pic = np.zeros((cut_width, cut_length, depth))\n",
    "    # for循环迭代生成\n",
    "    timbrecount=0\n",
    "    try:\n",
    "        for i in range(0, 8):\n",
    "            for j in range(0, 3):\n",
    "                pic = picture[i*cut_width : (i+1)*cut_width, j*cut_length : (j+1)*cut_length, :]      \n",
    "                result=STACK[filelistcount][timbrecount][5:]\n",
    "                result_path = pic_target + '{}.png'.format(result)              # 这一步是用邮票的SD编号对单张邮票进行命名\n",
    "                cv2.imwrite(result_path, pic)\n",
    "                timbrecount+=1\n",
    "        filelistcount+=1\n",
    "    except Exception:\n",
    "        print('excrption for index, but program continue,its ok. ')\n",
    "shutil.move(file_dir ,\"./used-pdfpage/\")\n"
   ]
  }
 ],
 "metadata": {
  "kernelspec": {
   "display_name": "Python 3",
   "language": "python",
   "name": "python3"
  },
  "language_info": {
   "codemirror_mode": {
    "name": "ipython",
    "version": 3
   },
   "file_extension": ".py",
   "mimetype": "text/x-python",
   "name": "python",
   "nbconvert_exporter": "python",
   "pygments_lexer": "ipython3",
   "version": "3.9.0"
  },
  "orig_nbformat": 4,
  "vscode": {
   "interpreter": {
    "hash": "4f95cac2866d48a154725f15da66ad3889a01053732bcd1fedad154961939282"
   }
  }
 },
 "nbformat": 4,
 "nbformat_minor": 2
}
